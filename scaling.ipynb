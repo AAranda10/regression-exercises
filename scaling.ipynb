{
 "cells": [
  {
   "cell_type": "code",
   "execution_count": 36,
   "metadata": {},
   "outputs": [],
   "source": [
    "import matplotlib.pyplot as plt\n",
    "import numpy as np\n",
    "from scipy import stats\n",
    "import sklearn.preprocessing\n",
    "from sklearn.model_selection import train_test_split\n",
    "import pandas as pd\n",
    "import os\n",
    "from env import host, user, password\n",
    "import warnings\n",
    "warnings.filterwarnings(\"ignore\")\n",
    "import wrangle"
   ]
  },
  {
   "cell_type": "code",
   "execution_count": 37,
   "metadata": {},
   "outputs": [
    {
     "data": {
      "text/html": [
       "<div>\n",
       "<style scoped>\n",
       "    .dataframe tbody tr th:only-of-type {\n",
       "        vertical-align: middle;\n",
       "    }\n",
       "\n",
       "    .dataframe tbody tr th {\n",
       "        vertical-align: top;\n",
       "    }\n",
       "\n",
       "    .dataframe thead th {\n",
       "        text-align: right;\n",
       "    }\n",
       "</style>\n",
       "<table border=\"1\" class=\"dataframe\">\n",
       "  <thead>\n",
       "    <tr style=\"text-align: right;\">\n",
       "      <th></th>\n",
       "      <th>customer_id</th>\n",
       "      <th>monthly_charges</th>\n",
       "      <th>tenure</th>\n",
       "      <th>total_charges</th>\n",
       "    </tr>\n",
       "  </thead>\n",
       "  <tbody>\n",
       "    <tr>\n",
       "      <th>0</th>\n",
       "      <td>0013-SMEOE</td>\n",
       "      <td>109.70</td>\n",
       "      <td>71</td>\n",
       "      <td>7904.25</td>\n",
       "    </tr>\n",
       "    <tr>\n",
       "      <th>1</th>\n",
       "      <td>0014-BMAQU</td>\n",
       "      <td>84.65</td>\n",
       "      <td>63</td>\n",
       "      <td>5377.8</td>\n",
       "    </tr>\n",
       "    <tr>\n",
       "      <th>2</th>\n",
       "      <td>0016-QLJIS</td>\n",
       "      <td>90.45</td>\n",
       "      <td>65</td>\n",
       "      <td>5957.9</td>\n",
       "    </tr>\n",
       "    <tr>\n",
       "      <th>3</th>\n",
       "      <td>0017-DINOC</td>\n",
       "      <td>45.20</td>\n",
       "      <td>54</td>\n",
       "      <td>2460.55</td>\n",
       "    </tr>\n",
       "    <tr>\n",
       "      <th>4</th>\n",
       "      <td>0017-IUDMW</td>\n",
       "      <td>116.80</td>\n",
       "      <td>72</td>\n",
       "      <td>8456.75</td>\n",
       "    </tr>\n",
       "  </tbody>\n",
       "</table>\n",
       "</div>"
      ],
      "text/plain": [
       "  customer_id  monthly_charges  tenure total_charges\n",
       "0  0013-SMEOE           109.70      71       7904.25\n",
       "1  0014-BMAQU            84.65      63        5377.8\n",
       "2  0016-QLJIS            90.45      65        5957.9\n",
       "3  0017-DINOC            45.20      54       2460.55\n",
       "4  0017-IUDMW           116.80      72       8456.75"
      ]
     },
     "execution_count": 37,
     "metadata": {},
     "output_type": "execute_result"
    }
   ],
   "source": [
    "df = wrangle.wrangle_telco()\n",
    "df.tenure.astype(float)\n",
    "df.head()"
   ]
  },
  {
   "cell_type": "code",
   "execution_count": 38,
   "metadata": {},
   "outputs": [],
   "source": [
    "train_and_validate, test = train_test_split(df, random_state=123)\n",
    "train, validate = train_test_split(train_and_validate)"
   ]
  },
  {
   "cell_type": "code",
   "execution_count": 39,
   "metadata": {},
   "outputs": [
    {
     "data": {
      "text/html": [
       "<div>\n",
       "<style scoped>\n",
       "    .dataframe tbody tr th:only-of-type {\n",
       "        vertical-align: middle;\n",
       "    }\n",
       "\n",
       "    .dataframe tbody tr th {\n",
       "        vertical-align: top;\n",
       "    }\n",
       "\n",
       "    .dataframe thead th {\n",
       "        text-align: right;\n",
       "    }\n",
       "</style>\n",
       "<table border=\"1\" class=\"dataframe\">\n",
       "  <thead>\n",
       "    <tr style=\"text-align: right;\">\n",
       "      <th></th>\n",
       "      <th>customer_id</th>\n",
       "      <th>monthly_charges</th>\n",
       "      <th>tenure</th>\n",
       "      <th>total_charges</th>\n",
       "    </tr>\n",
       "  </thead>\n",
       "  <tbody>\n",
       "    <tr>\n",
       "      <th>314</th>\n",
       "      <td>1970-KKFWL</td>\n",
       "      <td>23.30</td>\n",
       "      <td>35</td>\n",
       "      <td>797.1</td>\n",
       "    </tr>\n",
       "    <tr>\n",
       "      <th>151</th>\n",
       "      <td>0885-HMGPY</td>\n",
       "      <td>69.40</td>\n",
       "      <td>62</td>\n",
       "      <td>4237.5</td>\n",
       "    </tr>\n",
       "    <tr>\n",
       "      <th>39</th>\n",
       "      <td>0270-THENM</td>\n",
       "      <td>69.85</td>\n",
       "      <td>72</td>\n",
       "      <td>5102.35</td>\n",
       "    </tr>\n",
       "    <tr>\n",
       "      <th>1377</th>\n",
       "      <td>8148-WOCMK</td>\n",
       "      <td>19.60</td>\n",
       "      <td>8</td>\n",
       "      <td>125</td>\n",
       "    </tr>\n",
       "    <tr>\n",
       "      <th>567</th>\n",
       "      <td>3458-IDMFK</td>\n",
       "      <td>20.75</td>\n",
       "      <td>25</td>\n",
       "      <td>499.4</td>\n",
       "    </tr>\n",
       "    <tr>\n",
       "      <th>...</th>\n",
       "      <td>...</td>\n",
       "      <td>...</td>\n",
       "      <td>...</td>\n",
       "      <td>...</td>\n",
       "    </tr>\n",
       "    <tr>\n",
       "      <th>1170</th>\n",
       "      <td>6976-BWGLQ</td>\n",
       "      <td>25.20</td>\n",
       "      <td>72</td>\n",
       "      <td>1787.35</td>\n",
       "    </tr>\n",
       "    <tr>\n",
       "      <th>305</th>\n",
       "      <td>1927-QEWMY</td>\n",
       "      <td>20.50</td>\n",
       "      <td>72</td>\n",
       "      <td>1502.25</td>\n",
       "    </tr>\n",
       "    <tr>\n",
       "      <th>1657</th>\n",
       "      <td>9788-HNGUT</td>\n",
       "      <td>116.95</td>\n",
       "      <td>72</td>\n",
       "      <td>8594.4</td>\n",
       "    </tr>\n",
       "    <tr>\n",
       "      <th>1316</th>\n",
       "      <td>7771-CFQRQ</td>\n",
       "      <td>63.80</td>\n",
       "      <td>47</td>\n",
       "      <td>3007.25</td>\n",
       "    </tr>\n",
       "    <tr>\n",
       "      <th>1127</th>\n",
       "      <td>6727-IOTLZ</td>\n",
       "      <td>81.95</td>\n",
       "      <td>14</td>\n",
       "      <td>1181.75</td>\n",
       "    </tr>\n",
       "  </tbody>\n",
       "</table>\n",
       "<p>953 rows × 4 columns</p>\n",
       "</div>"
      ],
      "text/plain": [
       "     customer_id  monthly_charges  tenure total_charges\n",
       "314   1970-KKFWL            23.30      35         797.1\n",
       "151   0885-HMGPY            69.40      62        4237.5\n",
       "39    0270-THENM            69.85      72       5102.35\n",
       "1377  8148-WOCMK            19.60       8           125\n",
       "567   3458-IDMFK            20.75      25         499.4\n",
       "...          ...              ...     ...           ...\n",
       "1170  6976-BWGLQ            25.20      72       1787.35\n",
       "305   1927-QEWMY            20.50      72       1502.25\n",
       "1657  9788-HNGUT           116.95      72        8594.4\n",
       "1316  7771-CFQRQ            63.80      47       3007.25\n",
       "1127  6727-IOTLZ            81.95      14       1181.75\n",
       "\n",
       "[953 rows x 4 columns]"
      ]
     },
     "execution_count": 39,
     "metadata": {},
     "output_type": "execute_result"
    }
   ],
   "source": [
    "train"
   ]
  },
  {
   "cell_type": "code",
   "execution_count": 40,
   "metadata": {},
   "outputs": [],
   "source": [
    "scaler = sklearn.preprocessing.MinMaxScaler()\n",
    "\n",
    "scaler.fit(train[['monthly_charges']])\n",
    "\n",
    "train['monthly_charges_scaled'] = scaler.transform(train[['monthly_charges']])\n",
    "validate['monthly_charges_scaled'] = scaler.transform(validate[['monthly_charges']])\n",
    "test['monthly_charges_scaled'] = scaler.transform(test[['monthly_charges']])"
   ]
  },
  {
   "cell_type": "code",
   "execution_count": 41,
   "metadata": {},
   "outputs": [
    {
     "data": {
      "text/html": [
       "<div>\n",
       "<style scoped>\n",
       "    .dataframe tbody tr th:only-of-type {\n",
       "        vertical-align: middle;\n",
       "    }\n",
       "\n",
       "    .dataframe tbody tr th {\n",
       "        vertical-align: top;\n",
       "    }\n",
       "\n",
       "    .dataframe thead th {\n",
       "        text-align: right;\n",
       "    }\n",
       "</style>\n",
       "<table border=\"1\" class=\"dataframe\">\n",
       "  <thead>\n",
       "    <tr style=\"text-align: right;\">\n",
       "      <th></th>\n",
       "      <th>customer_id</th>\n",
       "      <th>monthly_charges</th>\n",
       "      <th>tenure</th>\n",
       "      <th>total_charges</th>\n",
       "      <th>monthly_charges_scaled</th>\n",
       "    </tr>\n",
       "  </thead>\n",
       "  <tbody>\n",
       "    <tr>\n",
       "      <th>314</th>\n",
       "      <td>1970-KKFWL</td>\n",
       "      <td>23.30</td>\n",
       "      <td>35</td>\n",
       "      <td>797.1</td>\n",
       "      <td>0.048878</td>\n",
       "    </tr>\n",
       "    <tr>\n",
       "      <th>151</th>\n",
       "      <td>0885-HMGPY</td>\n",
       "      <td>69.40</td>\n",
       "      <td>62</td>\n",
       "      <td>4237.5</td>\n",
       "      <td>0.508728</td>\n",
       "    </tr>\n",
       "    <tr>\n",
       "      <th>39</th>\n",
       "      <td>0270-THENM</td>\n",
       "      <td>69.85</td>\n",
       "      <td>72</td>\n",
       "      <td>5102.35</td>\n",
       "      <td>0.513217</td>\n",
       "    </tr>\n",
       "    <tr>\n",
       "      <th>1377</th>\n",
       "      <td>8148-WOCMK</td>\n",
       "      <td>19.60</td>\n",
       "      <td>8</td>\n",
       "      <td>125</td>\n",
       "      <td>0.011970</td>\n",
       "    </tr>\n",
       "    <tr>\n",
       "      <th>567</th>\n",
       "      <td>3458-IDMFK</td>\n",
       "      <td>20.75</td>\n",
       "      <td>25</td>\n",
       "      <td>499.4</td>\n",
       "      <td>0.023441</td>\n",
       "    </tr>\n",
       "  </tbody>\n",
       "</table>\n",
       "</div>"
      ],
      "text/plain": [
       "     customer_id  monthly_charges  tenure total_charges  \\\n",
       "314   1970-KKFWL            23.30      35         797.1   \n",
       "151   0885-HMGPY            69.40      62        4237.5   \n",
       "39    0270-THENM            69.85      72       5102.35   \n",
       "1377  8148-WOCMK            19.60       8           125   \n",
       "567   3458-IDMFK            20.75      25         499.4   \n",
       "\n",
       "      monthly_charges_scaled  \n",
       "314                 0.048878  \n",
       "151                 0.508728  \n",
       "39                  0.513217  \n",
       "1377                0.011970  \n",
       "567                 0.023441  "
      ]
     },
     "execution_count": 41,
     "metadata": {},
     "output_type": "execute_result"
    }
   ],
   "source": [
    "train.head()"
   ]
  },
  {
   "cell_type": "code",
   "execution_count": 42,
   "metadata": {},
   "outputs": [
    {
     "data": {
      "text/plain": [
       "<matplotlib.axes._subplots.AxesSubplot at 0x7fb730ef8fa0>"
      ]
     },
     "execution_count": 42,
     "metadata": {},
     "output_type": "execute_result"
    },
    {
     "data": {
      "image/png": "[encoded data removed]",
      "text/plain": [
       "<Figure size 936x432 with 2 Axes>"
      ]
     },
     "metadata": {
      "needs_background": "light"
     },
     "output_type": "display_data"
    }
   ],
   "source": [
    "plt.figure(figsize=(13, 6))\n",
    "plt.subplot(121)\n",
    "train.monthly_charges.plot.hist(title='Original')\n",
    "plt.subplot(122)\n",
    "train.monthly_charges_scaled.plot.hist(title='Min-Max Scaled')"
   ]
  },
  {
   "cell_type": "code",
   "execution_count": 43,
   "metadata": {},
   "outputs": [],
   "source": [
    "scaler = sklearn.preprocessing.StandardScaler()\n",
    "\n",
    "scaler.fit(train[['monthly_charges']])\n",
    "\n",
    "train['monthly_charges_scaled'] = scaler.transform(train[['monthly_charges']])\n",
    "validate['monthly_charges_scaled'] = scaler.transform(validate[['monthly_charges']])\n",
    "test['monthly_charges_scaled'] = scaler.transform(test[['monthly_charges']])"
   ]
  },
  {
   "cell_type": "code",
   "execution_count": 44,
   "metadata": {},
   "outputs": [
    {
     "data": {
      "text/html": [
       "<div>\n",
       "<style scoped>\n",
       "    .dataframe tbody tr th:only-of-type {\n",
       "        vertical-align: middle;\n",
       "    }\n",
       "\n",
       "    .dataframe tbody tr th {\n",
       "        vertical-align: top;\n",
       "    }\n",
       "\n",
       "    .dataframe thead th {\n",
       "        text-align: right;\n",
       "    }\n",
       "</style>\n",
       "<table border=\"1\" class=\"dataframe\">\n",
       "  <thead>\n",
       "    <tr style=\"text-align: right;\">\n",
       "      <th></th>\n",
       "      <th>customer_id</th>\n",
       "      <th>monthly_charges</th>\n",
       "      <th>tenure</th>\n",
       "      <th>total_charges</th>\n",
       "      <th>monthly_charges_scaled</th>\n",
       "    </tr>\n",
       "  </thead>\n",
       "  <tbody>\n",
       "    <tr>\n",
       "      <th>314</th>\n",
       "      <td>1970-KKFWL</td>\n",
       "      <td>23.30</td>\n",
       "      <td>35</td>\n",
       "      <td>797.1</td>\n",
       "      <td>-1.092576</td>\n",
       "    </tr>\n",
       "    <tr>\n",
       "      <th>151</th>\n",
       "      <td>0885-HMGPY</td>\n",
       "      <td>69.40</td>\n",
       "      <td>62</td>\n",
       "      <td>4237.5</td>\n",
       "      <td>0.222282</td>\n",
       "    </tr>\n",
       "    <tr>\n",
       "      <th>39</th>\n",
       "      <td>0270-THENM</td>\n",
       "      <td>69.85</td>\n",
       "      <td>72</td>\n",
       "      <td>5102.35</td>\n",
       "      <td>0.235117</td>\n",
       "    </tr>\n",
       "    <tr>\n",
       "      <th>1377</th>\n",
       "      <td>8148-WOCMK</td>\n",
       "      <td>19.60</td>\n",
       "      <td>8</td>\n",
       "      <td>125</td>\n",
       "      <td>-1.198107</td>\n",
       "    </tr>\n",
       "    <tr>\n",
       "      <th>567</th>\n",
       "      <td>3458-IDMFK</td>\n",
       "      <td>20.75</td>\n",
       "      <td>25</td>\n",
       "      <td>499.4</td>\n",
       "      <td>-1.165307</td>\n",
       "    </tr>\n",
       "    <tr>\n",
       "      <th>...</th>\n",
       "      <td>...</td>\n",
       "      <td>...</td>\n",
       "      <td>...</td>\n",
       "      <td>...</td>\n",
       "      <td>...</td>\n",
       "    </tr>\n",
       "    <tr>\n",
       "      <th>1170</th>\n",
       "      <td>6976-BWGLQ</td>\n",
       "      <td>25.20</td>\n",
       "      <td>72</td>\n",
       "      <td>1787.35</td>\n",
       "      <td>-1.038385</td>\n",
       "    </tr>\n",
       "    <tr>\n",
       "      <th>305</th>\n",
       "      <td>1927-QEWMY</td>\n",
       "      <td>20.50</td>\n",
       "      <td>72</td>\n",
       "      <td>1502.25</td>\n",
       "      <td>-1.172437</td>\n",
       "    </tr>\n",
       "    <tr>\n",
       "      <th>1657</th>\n",
       "      <td>9788-HNGUT</td>\n",
       "      <td>116.95</td>\n",
       "      <td>72</td>\n",
       "      <td>8594.4</td>\n",
       "      <td>1.578497</td>\n",
       "    </tr>\n",
       "    <tr>\n",
       "      <th>1316</th>\n",
       "      <td>7771-CFQRQ</td>\n",
       "      <td>63.80</td>\n",
       "      <td>47</td>\n",
       "      <td>3007.25</td>\n",
       "      <td>0.062560</td>\n",
       "    </tr>\n",
       "    <tr>\n",
       "      <th>1127</th>\n",
       "      <td>6727-IOTLZ</td>\n",
       "      <td>81.95</td>\n",
       "      <td>14</td>\n",
       "      <td>1181.75</td>\n",
       "      <td>0.580231</td>\n",
       "    </tr>\n",
       "  </tbody>\n",
       "</table>\n",
       "<p>953 rows × 5 columns</p>\n",
       "</div>"
      ],
      "text/plain": [
       "     customer_id  monthly_charges  tenure total_charges  \\\n",
       "314   1970-KKFWL            23.30      35         797.1   \n",
       "151   0885-HMGPY            69.40      62        4237.5   \n",
       "39    0270-THENM            69.85      72       5102.35   \n",
       "1377  8148-WOCMK            19.60       8           125   \n",
       "567   3458-IDMFK            20.75      25         499.4   \n",
       "...          ...              ...     ...           ...   \n",
       "1170  6976-BWGLQ            25.20      72       1787.35   \n",
       "305   1927-QEWMY            20.50      72       1502.25   \n",
       "1657  9788-HNGUT           116.95      72        8594.4   \n",
       "1316  7771-CFQRQ            63.80      47       3007.25   \n",
       "1127  6727-IOTLZ            81.95      14       1181.75   \n",
       "\n",
       "      monthly_charges_scaled  \n",
       "314                -1.092576  \n",
       "151                 0.222282  \n",
       "39                  0.235117  \n",
       "1377               -1.198107  \n",
       "567                -1.165307  \n",
       "...                      ...  \n",
       "1170               -1.038385  \n",
       "305                -1.172437  \n",
       "1657                1.578497  \n",
       "1316                0.062560  \n",
       "1127                0.580231  \n",
       "\n",
       "[953 rows x 5 columns]"
      ]
     },
     "execution_count": 44,
     "metadata": {},
     "output_type": "execute_result"
    }
   ],
   "source": [
    "train"
   ]
  },
  {
   "cell_type": "code",
   "execution_count": 45,
   "metadata": {},
   "outputs": [
    {
     "data": {
      "text/plain": [
       "<matplotlib.axes._subplots.AxesSubplot at 0x7fb73227a9d0>"
      ]
     },
     "execution_count": 45,
     "metadata": {},
     "output_type": "execute_result"
    },
    {
     "data": {
      "image/png": "[encoded data removed]",
      "text/plain": [
       "<Figure size 936x432 with 2 Axes>"
      ]
     },
     "metadata": {
      "needs_background": "light"
     },
     "output_type": "display_data"
    }
   ],
   "source": [
    "plt.figure(figsize=(13, 6))\n",
    "plt.subplot(121)\n",
    "train.monthly_charges.plot.hist(title='Original')\n",
    "plt.subplot(122)\n",
    "train.monthly_charges_scaled.plot.hist(title='Standard Scale')"
   ]
  },
  {
   "cell_type": "code",
   "execution_count": 46,
   "metadata": {},
   "outputs": [],
   "source": [
    "scaler = sklearn.preprocessing.StandardScaler()\n",
    "\n",
    "scaler.fit(train[['monthly_charges']])\n",
    "\n",
    "train['monthly_charges_inverse'] = scaler.inverse_transform(train[['monthly_charges_scaled']])\n",
    "validate['monthly_charges_inverse'] = scaler.inverse_transform(validate[['monthly_charges_scaled']])\n",
    "test['monthly_charges_inverse'] = scaler.inverse_transform(test[['monthly_charges_scaled']])"
   ]
  },
  {
   "cell_type": "code",
   "execution_count": 47,
   "metadata": {
    "scrolled": true
   },
   "outputs": [
    {
     "data": {
      "text/html": [
       "<div>\n",
       "<style scoped>\n",
       "    .dataframe tbody tr th:only-of-type {\n",
       "        vertical-align: middle;\n",
       "    }\n",
       "\n",
       "    .dataframe tbody tr th {\n",
       "        vertical-align: top;\n",
       "    }\n",
       "\n",
       "    .dataframe thead th {\n",
       "        text-align: right;\n",
       "    }\n",
       "</style>\n",
       "<table border=\"1\" class=\"dataframe\">\n",
       "  <thead>\n",
       "    <tr style=\"text-align: right;\">\n",
       "      <th></th>\n",
       "      <th>customer_id</th>\n",
       "      <th>monthly_charges</th>\n",
       "      <th>tenure</th>\n",
       "      <th>total_charges</th>\n",
       "      <th>monthly_charges_scaled</th>\n",
       "      <th>monthly_charges_inverse</th>\n",
       "    </tr>\n",
       "  </thead>\n",
       "  <tbody>\n",
       "    <tr>\n",
       "      <th>314</th>\n",
       "      <td>1970-KKFWL</td>\n",
       "      <td>23.30</td>\n",
       "      <td>35</td>\n",
       "      <td>797.1</td>\n",
       "      <td>-1.092576</td>\n",
       "      <td>23.30</td>\n",
       "    </tr>\n",
       "    <tr>\n",
       "      <th>151</th>\n",
       "      <td>0885-HMGPY</td>\n",
       "      <td>69.40</td>\n",
       "      <td>62</td>\n",
       "      <td>4237.5</td>\n",
       "      <td>0.222282</td>\n",
       "      <td>69.40</td>\n",
       "    </tr>\n",
       "    <tr>\n",
       "      <th>39</th>\n",
       "      <td>0270-THENM</td>\n",
       "      <td>69.85</td>\n",
       "      <td>72</td>\n",
       "      <td>5102.35</td>\n",
       "      <td>0.235117</td>\n",
       "      <td>69.85</td>\n",
       "    </tr>\n",
       "    <tr>\n",
       "      <th>1377</th>\n",
       "      <td>8148-WOCMK</td>\n",
       "      <td>19.60</td>\n",
       "      <td>8</td>\n",
       "      <td>125</td>\n",
       "      <td>-1.198107</td>\n",
       "      <td>19.60</td>\n",
       "    </tr>\n",
       "    <tr>\n",
       "      <th>567</th>\n",
       "      <td>3458-IDMFK</td>\n",
       "      <td>20.75</td>\n",
       "      <td>25</td>\n",
       "      <td>499.4</td>\n",
       "      <td>-1.165307</td>\n",
       "      <td>20.75</td>\n",
       "    </tr>\n",
       "  </tbody>\n",
       "</table>\n",
       "</div>"
      ],
      "text/plain": [
       "     customer_id  monthly_charges  tenure total_charges  \\\n",
       "314   1970-KKFWL            23.30      35         797.1   \n",
       "151   0885-HMGPY            69.40      62        4237.5   \n",
       "39    0270-THENM            69.85      72       5102.35   \n",
       "1377  8148-WOCMK            19.60       8           125   \n",
       "567   3458-IDMFK            20.75      25         499.4   \n",
       "\n",
       "      monthly_charges_scaled  monthly_charges_inverse  \n",
       "314                -1.092576                    23.30  \n",
       "151                 0.222282                    69.40  \n",
       "39                  0.235117                    69.85  \n",
       "1377               -1.198107                    19.60  \n",
       "567                -1.165307                    20.75  "
      ]
     },
     "execution_count": 47,
     "metadata": {},
     "output_type": "execute_result"
    }
   ],
   "source": [
    "train.head()"
   ]
  },
  {
   "cell_type": "code",
   "execution_count": 48,
   "metadata": {},
   "outputs": [],
   "source": [
    "scaler = sklearn.preprocessing.QuantileTransformer(output_distribution='normal')\n",
    "\n",
    "scaler.fit(train[['monthly_charges']])\n",
    "\n",
    "train['monthly_charges_scaled'] = scaler.transform(train[['monthly_charges']])\n",
    "validate['monthly_charges_scaled'] = scaler.transform(validate[['monthly_charges']])\n",
    "test['monthly_charges_scaled'] = scaler.transform(test[['monthly_charges']])"
   ]
  },
  {
   "cell_type": "code",
   "execution_count": 49,
   "metadata": {},
   "outputs": [
    {
     "data": {
      "text/html": [
       "<div>\n",
       "<style scoped>\n",
       "    .dataframe tbody tr th:only-of-type {\n",
       "        vertical-align: middle;\n",
       "    }\n",
       "\n",
       "    .dataframe tbody tr th {\n",
       "        vertical-align: top;\n",
       "    }\n",
       "\n",
       "    .dataframe thead th {\n",
       "        text-align: right;\n",
       "    }\n",
       "</style>\n",
       "<table border=\"1\" class=\"dataframe\">\n",
       "  <thead>\n",
       "    <tr style=\"text-align: right;\">\n",
       "      <th></th>\n",
       "      <th>customer_id</th>\n",
       "      <th>monthly_charges</th>\n",
       "      <th>tenure</th>\n",
       "      <th>total_charges</th>\n",
       "      <th>monthly_charges_scaled</th>\n",
       "      <th>monthly_charges_inverse</th>\n",
       "    </tr>\n",
       "  </thead>\n",
       "  <tbody>\n",
       "    <tr>\n",
       "      <th>314</th>\n",
       "      <td>1970-KKFWL</td>\n",
       "      <td>23.30</td>\n",
       "      <td>35</td>\n",
       "      <td>797.1</td>\n",
       "      <td>-0.697813</td>\n",
       "      <td>23.30</td>\n",
       "    </tr>\n",
       "    <tr>\n",
       "      <th>151</th>\n",
       "      <td>0885-HMGPY</td>\n",
       "      <td>69.40</td>\n",
       "      <td>62</td>\n",
       "      <td>4237.5</td>\n",
       "      <td>0.097576</td>\n",
       "      <td>69.40</td>\n",
       "    </tr>\n",
       "    <tr>\n",
       "      <th>39</th>\n",
       "      <td>0270-THENM</td>\n",
       "      <td>69.85</td>\n",
       "      <td>72</td>\n",
       "      <td>5102.35</td>\n",
       "      <td>0.106840</td>\n",
       "      <td>69.85</td>\n",
       "    </tr>\n",
       "    <tr>\n",
       "      <th>1377</th>\n",
       "      <td>8148-WOCMK</td>\n",
       "      <td>19.60</td>\n",
       "      <td>8</td>\n",
       "      <td>125</td>\n",
       "      <td>-1.521433</td>\n",
       "      <td>19.60</td>\n",
       "    </tr>\n",
       "    <tr>\n",
       "      <th>567</th>\n",
       "      <td>3458-IDMFK</td>\n",
       "      <td>20.75</td>\n",
       "      <td>25</td>\n",
       "      <td>499.4</td>\n",
       "      <td>-0.750870</td>\n",
       "      <td>20.75</td>\n",
       "    </tr>\n",
       "  </tbody>\n",
       "</table>\n",
       "</div>"
      ],
      "text/plain": [
       "     customer_id  monthly_charges  tenure total_charges  \\\n",
       "314   1970-KKFWL            23.30      35         797.1   \n",
       "151   0885-HMGPY            69.40      62        4237.5   \n",
       "39    0270-THENM            69.85      72       5102.35   \n",
       "1377  8148-WOCMK            19.60       8           125   \n",
       "567   3458-IDMFK            20.75      25         499.4   \n",
       "\n",
       "      monthly_charges_scaled  monthly_charges_inverse  \n",
       "314                -0.697813                    23.30  \n",
       "151                 0.097576                    69.40  \n",
       "39                  0.106840                    69.85  \n",
       "1377               -1.521433                    19.60  \n",
       "567                -0.750870                    20.75  "
      ]
     },
     "execution_count": 49,
     "metadata": {},
     "output_type": "execute_result"
    }
   ],
   "source": [
    "train.head()"
   ]
  },
  {
   "cell_type": "code",
   "execution_count": 50,
   "metadata": {},
   "outputs": [
    {
     "data": {
      "text/plain": [
       "<matplotlib.axes._subplots.AxesSubplot at 0x7fb73245abb0>"
      ]
     },
     "execution_count": 50,
     "metadata": {},
     "output_type": "execute_result"
    },
    {
     "data": {
      "image/png": "[encoded data removed]",
      "text/plain": [
       "<Figure size 936x432 with 2 Axes>"
      ]
     },
     "metadata": {
      "needs_background": "light"
     },
     "output_type": "display_data"
    }
   ],
   "source": [
    "plt.figure(figsize=(13, 6))\n",
    "plt.subplot(121)\n",
    "train.monthly_charges.plot.hist(title='Original')\n",
    "plt.subplot(122)\n",
    "train.monthly_charges_scaled.plot.hist(title='Quantile Tranformed')"
   ]
  },
  {
   "cell_type": "code",
   "execution_count": 51,
   "metadata": {},
   "outputs": [],
   "source": [
    "scaler = sklearn.preprocessing.QuantileTransformer()\n",
    "\n",
    "scaler.fit(train[['monthly_charges']])\n",
    "\n",
    "train['monthly_charges_scaled'] = scaler.transform(train[['monthly_charges']])\n",
    "validate['monthly_charges_scaled'] = scaler.transform(validate[['monthly_charges']])\n",
    "test['monthly_charges_scaled'] = scaler.transform(test[['monthly_charges']])"
   ]
  },
  {
   "cell_type": "code",
   "execution_count": 52,
   "metadata": {},
   "outputs": [
    {
     "data": {
      "text/plain": [
       "<matplotlib.axes._subplots.AxesSubplot at 0x7fb7325331c0>"
      ]
     },
     "execution_count": 52,
     "metadata": {},
     "output_type": "execute_result"
    },
    {
     "data": {
      "image/png": "[encoded data removed]",
      "text/plain": [
       "<Figure size 936x432 with 2 Axes>"
      ]
     },
     "metadata": {
      "needs_background": "light"
     },
     "output_type": "display_data"
    }
   ],
   "source": [
    "plt.figure(figsize=(13, 6))\n",
    "plt.subplot(121)\n",
    "train.monthly_charges.plot.hist(title='Original')\n",
    "plt.subplot(122)\n",
    "train.monthly_charges_scaled.plot.hist(title='Nonsense')"
   ]
  },
  {
   "cell_type": "code",
   "execution_count": null,
   "metadata": {},
   "outputs": [],
   "source": []
  }
 ],
 "metadata": {
  "kernelspec": {
   "display_name": "Python 3",
   "language": "python",
   "name": "python3"
  },
  "language_info": {
   "codemirror_mode": {
    "name": "ipython",
    "version": 3
   },
   "file_extension": ".py",
   "mimetype": "text/x-python",
   "name": "python",
   "nbconvert_exporter": "python",
   "pygments_lexer": "ipython3",
   "version": "3.8.3"
  }
 },
 "nbformat": 4,
 "nbformat_minor": 4
}
