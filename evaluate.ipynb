{
 "cells": [
  {
   "cell_type": "code",
   "execution_count": 1,
   "metadata": {},
   "outputs": [],
   "source": [
    "import warnings\n",
    "warnings.filterwarnings(\"ignore\")\n",
    "\n",
    "import pandas as pd\n",
    "import matplotlib.pyplot as plt\n",
    "import seaborn as sns\n",
    "import numpy as np\n",
    "from pydataset import data\n",
    "\n",
    "from statsmodels.formula.api import ols"
   ]
  },
  {
   "cell_type": "code",
   "execution_count": 2,
   "metadata": {},
   "outputs": [],
   "source": [
    "df = pd.read_csv(\"https://gist.githubusercontent.com/ryanorsinger/9867c96ddb56626e9aac94d8e92dabdf/raw/45f9a36a8871ac0e24317704ed0072c9dded1327/lemonade_regression.csv\")"
   ]
  },
  {
   "cell_type": "code",
   "execution_count": 3,
   "metadata": {},
   "outputs": [
    {
     "data": {
      "text/html": [
       "<div>\n",
       "<style scoped>\n",
       "    .dataframe tbody tr th:only-of-type {\n",
       "        vertical-align: middle;\n",
       "    }\n",
       "\n",
       "    .dataframe tbody tr th {\n",
       "        vertical-align: top;\n",
       "    }\n",
       "\n",
       "    .dataframe thead th {\n",
       "        text-align: right;\n",
       "    }\n",
       "</style>\n",
       "<table border=\"1\" class=\"dataframe\">\n",
       "  <thead>\n",
       "    <tr style=\"text-align: right;\">\n",
       "      <th></th>\n",
       "      <th>temperature</th>\n",
       "      <th>rainfall</th>\n",
       "      <th>flyers</th>\n",
       "      <th>sales</th>\n",
       "    </tr>\n",
       "  </thead>\n",
       "  <tbody>\n",
       "    <tr>\n",
       "      <th>0</th>\n",
       "      <td>27.0</td>\n",
       "      <td>2.00</td>\n",
       "      <td>15</td>\n",
       "      <td>10</td>\n",
       "    </tr>\n",
       "    <tr>\n",
       "      <th>1</th>\n",
       "      <td>28.9</td>\n",
       "      <td>1.33</td>\n",
       "      <td>15</td>\n",
       "      <td>13</td>\n",
       "    </tr>\n",
       "    <tr>\n",
       "      <th>2</th>\n",
       "      <td>34.5</td>\n",
       "      <td>1.33</td>\n",
       "      <td>27</td>\n",
       "      <td>15</td>\n",
       "    </tr>\n",
       "    <tr>\n",
       "      <th>3</th>\n",
       "      <td>44.1</td>\n",
       "      <td>1.05</td>\n",
       "      <td>28</td>\n",
       "      <td>17</td>\n",
       "    </tr>\n",
       "    <tr>\n",
       "      <th>4</th>\n",
       "      <td>42.4</td>\n",
       "      <td>1.00</td>\n",
       "      <td>33</td>\n",
       "      <td>18</td>\n",
       "    </tr>\n",
       "  </tbody>\n",
       "</table>\n",
       "</div>"
      ],
      "text/plain": [
       "   temperature  rainfall  flyers  sales\n",
       "0         27.0      2.00      15     10\n",
       "1         28.9      1.33      15     13\n",
       "2         34.5      1.33      27     15\n",
       "3         44.1      1.05      28     17\n",
       "4         42.4      1.00      33     18"
      ]
     },
     "execution_count": 3,
     "metadata": {},
     "output_type": "execute_result"
    }
   ],
   "source": [
    "df.head()"
   ]
  },
  {
   "cell_type": "code",
   "execution_count": 4,
   "metadata": {},
   "outputs": [
    {
     "data": {
      "text/plain": [
       "25.323287671232876"
      ]
     },
     "execution_count": 4,
     "metadata": {},
     "output_type": "execute_result"
    }
   ],
   "source": [
    "baseline = df.sales.mean()\n",
    "baseline"
   ]
  },
  {
   "cell_type": "code",
   "execution_count": 5,
   "metadata": {},
   "outputs": [
    {
     "data": {
      "image/png": "[encoded data removed]",
      "text/plain": [
       "<Figure size 432x288 with 1 Axes>"
      ]
     },
     "metadata": {
      "needs_background": "light"
     },
     "output_type": "display_data"
    }
   ],
   "source": [
    "plt.suptitle(\"Adding a Line of Best Fit\")\n",
    "plt.title(\"Plotting Temperature vs. Sales\")\n",
    "\n",
    "sns.regplot(x=\"temperature\", y=\"sales\", data=df)\n",
    "plt.show()"
   ]
  },
  {
   "cell_type": "code",
   "execution_count": 6,
   "metadata": {},
   "outputs": [
    {
     "data": {
      "image/png": "[encoded data removed]",
      "text/plain": [
       "<Figure size 432x288 with 1 Axes>"
      ]
     },
     "metadata": {
      "needs_background": "light"
     },
     "output_type": "display_data"
    },
    {
     "data": {
      "text/plain": [
       "<matplotlib.axes._subplots.AxesSubplot at 0x7f9ddc7e6be0>"
      ]
     },
     "execution_count": 6,
     "metadata": {},
     "output_type": "execute_result"
    },
    {
     "data": {
      "image/png": "[encoded data removed]",
      "text/plain": [
       "<Figure size 432x288 with 1 Axes>"
      ]
     },
     "metadata": {
      "needs_background": "light"
     },
     "output_type": "display_data"
    }
   ],
   "source": [
    "plt.show()\n",
    "df.sales.hist()\n",
    "plt.show()\n",
    "df.temperature.hist()"
   ]
  },
  {
   "cell_type": "code",
   "execution_count": 7,
   "metadata": {},
   "outputs": [],
   "source": [
    "model = ols('sales ~ temperature', df).fit()"
   ]
  },
  {
   "cell_type": "code",
   "execution_count": 8,
   "metadata": {},
   "outputs": [
    {
     "data": {
      "text/html": [
       "<div>\n",
       "<style scoped>\n",
       "    .dataframe tbody tr th:only-of-type {\n",
       "        vertical-align: middle;\n",
       "    }\n",
       "\n",
       "    .dataframe tbody tr th {\n",
       "        vertical-align: top;\n",
       "    }\n",
       "\n",
       "    .dataframe thead th {\n",
       "        text-align: right;\n",
       "    }\n",
       "</style>\n",
       "<table border=\"1\" class=\"dataframe\">\n",
       "  <thead>\n",
       "    <tr style=\"text-align: right;\">\n",
       "      <th></th>\n",
       "      <th>x</th>\n",
       "      <th>y</th>\n",
       "      <th>baseline</th>\n",
       "      <th>yhat</th>\n",
       "      <th>baseline_residual</th>\n",
       "      <th>model_residual</th>\n",
       "    </tr>\n",
       "  </thead>\n",
       "  <tbody>\n",
       "    <tr>\n",
       "      <th>0</th>\n",
       "      <td>27.0</td>\n",
       "      <td>10</td>\n",
       "      <td>25.323288</td>\n",
       "      <td>11.112301</td>\n",
       "      <td>15.323288</td>\n",
       "      <td>1.112301</td>\n",
       "    </tr>\n",
       "    <tr>\n",
       "      <th>1</th>\n",
       "      <td>28.9</td>\n",
       "      <td>13</td>\n",
       "      <td>25.323288</td>\n",
       "      <td>11.912772</td>\n",
       "      <td>12.323288</td>\n",
       "      <td>-1.087228</td>\n",
       "    </tr>\n",
       "    <tr>\n",
       "      <th>2</th>\n",
       "      <td>34.5</td>\n",
       "      <td>15</td>\n",
       "      <td>25.323288</td>\n",
       "      <td>14.272055</td>\n",
       "      <td>10.323288</td>\n",
       "      <td>-0.727945</td>\n",
       "    </tr>\n",
       "    <tr>\n",
       "      <th>3</th>\n",
       "      <td>44.1</td>\n",
       "      <td>17</td>\n",
       "      <td>25.323288</td>\n",
       "      <td>18.316540</td>\n",
       "      <td>8.323288</td>\n",
       "      <td>1.316540</td>\n",
       "    </tr>\n",
       "    <tr>\n",
       "      <th>4</th>\n",
       "      <td>42.4</td>\n",
       "      <td>18</td>\n",
       "      <td>25.323288</td>\n",
       "      <td>17.600329</td>\n",
       "      <td>7.323288</td>\n",
       "      <td>-0.399671</td>\n",
       "    </tr>\n",
       "  </tbody>\n",
       "</table>\n",
       "</div>"
      ],
      "text/plain": [
       "      x   y   baseline       yhat  baseline_residual  model_residual\n",
       "0  27.0  10  25.323288  11.112301          15.323288        1.112301\n",
       "1  28.9  13  25.323288  11.912772          12.323288       -1.087228\n",
       "2  34.5  15  25.323288  14.272055          10.323288       -0.727945\n",
       "3  44.1  17  25.323288  18.316540           8.323288        1.316540\n",
       "4  42.4  18  25.323288  17.600329           7.323288       -0.399671"
      ]
     },
     "execution_count": 8,
     "metadata": {},
     "output_type": "execute_result"
    }
   ],
   "source": [
    "evaluate = pd.DataFrame()\n",
    "\n",
    "evaluate[\"x\"] = df.temperature\n",
    "\n",
    "evaluate[\"y\"] = df.sales\n",
    "evaluate[\"baseline\"] = df.sales.mean()\n",
    "\n",
    "evaluate[\"yhat\"] = model.predict()\n",
    "\n",
    "evaluate[\"baseline_residual\"] = evaluate.baseline - evaluate.y\n",
    "\n",
    "evaluate[\"model_residual\"] = evaluate.yhat - evaluate.y\n",
    "\n",
    "evaluate.head()"
   ]
  },
  {
   "cell_type": "code",
   "execution_count": 9,
   "metadata": {},
   "outputs": [
    {
     "name": "stdout",
     "output_type": "stream",
     "text": [
      "Our model beats the baseline\n",
      "It makes sense to evaluate this model more deeply.\n",
      "Baseline SSE 17297.85205479452\n",
      "Model SSE 349.977815203168\n"
     ]
    }
   ],
   "source": [
    "baseline_sse = (evaluate.baseline_residual**2).sum()\n",
    "model_sse = (evaluate.model_residual**2).sum()\n",
    "\n",
    "if model_sse < baseline_sse:\n",
    "    print(\"Our model beats the baseline\")\n",
    "    print(\"It makes sense to evaluate this model more deeply.\")\n",
    "else:\n",
    "    print(\"Our baseline is better than the model.\")\n",
    "\n",
    "print(\"Baseline SSE\", baseline_sse)\n",
    "print(\"Model SSE\", model_sse)"
   ]
  },
  {
   "cell_type": "code",
   "execution_count": 10,
   "metadata": {},
   "outputs": [
    {
     "name": "stdout",
     "output_type": "stream",
     "text": [
      "R-squared =  0.98\n"
     ]
    }
   ],
   "source": [
    "r2 = model.rsquared\n",
    "print('R-squared = ', round(r2,3))"
   ]
  },
  {
   "cell_type": "code",
   "execution_count": 11,
   "metadata": {},
   "outputs": [
    {
     "name": "stdout",
     "output_type": "stream",
     "text": [
      "p-value for model significance =  1.492364042585557e-309\n"
     ]
    }
   ],
   "source": [
    "f_pval = model.f_pvalue\n",
    "print(\"p-value for model significance = \", f_pval)"
   ]
  },
  {
   "cell_type": "code",
   "execution_count": 12,
   "metadata": {},
   "outputs": [
    {
     "data": {
      "text/plain": [
       "True"
      ]
     },
     "execution_count": 12,
     "metadata": {},
     "output_type": "execute_result"
    }
   ],
   "source": [
    "f_pval < .05"
   ]
  },
  {
   "cell_type": "code",
   "execution_count": 13,
   "metadata": {},
   "outputs": [],
   "source": [
    "def plot_residuals(actual, predicted):\n",
    "    residuals = actual - predicted\n",
    "    plt.hlines(0, actual.min(), actual.max(), ls=':')\n",
    "    plt.scatter(actual, residuals)\n",
    "    plt.ylabel('residual ($y - \\hat{y}$)')\n",
    "    plt.xlabel('actual value ($y$)')\n",
    "    plt.title('Actual vs Residual')\n",
    "    return plt.gca()"
   ]
  },
  {
   "cell_type": "code",
   "execution_count": 14,
   "metadata": {},
   "outputs": [
    {
     "data": {
      "text/plain": [
       "<matplotlib.axes._subplots.AxesSubplot at 0x7f9ddc95cfa0>"
      ]
     },
     "execution_count": 14,
     "metadata": {},
     "output_type": "execute_result"
    },
    {
     "data": {
      "image/png": "[encoded data removed]",
      "text/plain": [
       "<Figure size 432x288 with 1 Axes>"
      ]
     },
     "metadata": {
      "needs_background": "light"
     },
     "output_type": "display_data"
    }
   ],
   "source": [
    "plot_residuals(evaluate.y, evaluate.yhat)"
   ]
  },
  {
   "cell_type": "code",
   "execution_count": 15,
   "metadata": {},
   "outputs": [
    {
     "data": {
      "image/png": "[encoded data removed]",
      "text/plain": [
       "<Figure size 432x288 with 1 Axes>"
      ]
     },
     "metadata": {
      "needs_background": "light"
     },
     "output_type": "display_data"
    }
   ],
   "source": [
    "plt.suptitle(\"Adding a Line of Best Fit\")\n",
    "plt.title(\"Plotting Temperature vs. Sales\")\n",
    "\n",
    "sns.regplot(x=\"rainfall\", y=\"sales\", data=df)\n",
    "plt.show()"
   ]
  },
  {
   "cell_type": "code",
   "execution_count": 16,
   "metadata": {},
   "outputs": [
    {
     "data": {
      "image/png": "[encoded data removed]",
      "text/plain": [
       "<Figure size 432x288 with 1 Axes>"
      ]
     },
     "metadata": {
      "needs_background": "light"
     },
     "output_type": "display_data"
    },
    {
     "data": {
      "text/plain": [
       "<matplotlib.axes._subplots.AxesSubplot at 0x7f9ddce39af0>"
      ]
     },
     "execution_count": 16,
     "metadata": {},
     "output_type": "execute_result"
    },
    {
     "data": {
      "image/png": "[encoded data removed]",
      "text/plain": [
       "<Figure size 432x288 with 1 Axes>"
      ]
     },
     "metadata": {
      "needs_background": "light"
     },
     "output_type": "display_data"
    }
   ],
   "source": [
    "plt.show()\n",
    "df.sales.hist()\n",
    "plt.show()\n",
    "df.rainfall.hist()"
   ]
  },
  {
   "cell_type": "code",
   "execution_count": 17,
   "metadata": {},
   "outputs": [],
   "source": [
    "model = ols('sales ~ rainfall', df).fit()"
   ]
  },
  {
   "cell_type": "code",
   "execution_count": 18,
   "metadata": {},
   "outputs": [
    {
     "data": {
      "text/html": [
       "<div>\n",
       "<style scoped>\n",
       "    .dataframe tbody tr th:only-of-type {\n",
       "        vertical-align: middle;\n",
       "    }\n",
       "\n",
       "    .dataframe tbody tr th {\n",
       "        vertical-align: top;\n",
       "    }\n",
       "\n",
       "    .dataframe thead th {\n",
       "        text-align: right;\n",
       "    }\n",
       "</style>\n",
       "<table border=\"1\" class=\"dataframe\">\n",
       "  <thead>\n",
       "    <tr style=\"text-align: right;\">\n",
       "      <th></th>\n",
       "      <th>x</th>\n",
       "      <th>y</th>\n",
       "      <th>baseline</th>\n",
       "      <th>yhat</th>\n",
       "      <th>baseline_residual</th>\n",
       "      <th>model_residual</th>\n",
       "    </tr>\n",
       "  </thead>\n",
       "  <tbody>\n",
       "    <tr>\n",
       "      <th>0</th>\n",
       "      <td>2.00</td>\n",
       "      <td>10</td>\n",
       "      <td>25.323288</td>\n",
       "      <td>-1.599602</td>\n",
       "      <td>15.323288</td>\n",
       "      <td>-11.599602</td>\n",
       "    </tr>\n",
       "    <tr>\n",
       "      <th>1</th>\n",
       "      <td>1.33</td>\n",
       "      <td>13</td>\n",
       "      <td>25.323288</td>\n",
       "      <td>13.773142</td>\n",
       "      <td>12.323288</td>\n",
       "      <td>0.773142</td>\n",
       "    </tr>\n",
       "    <tr>\n",
       "      <th>2</th>\n",
       "      <td>1.33</td>\n",
       "      <td>15</td>\n",
       "      <td>25.323288</td>\n",
       "      <td>13.773142</td>\n",
       "      <td>10.323288</td>\n",
       "      <td>-1.226858</td>\n",
       "    </tr>\n",
       "    <tr>\n",
       "      <th>3</th>\n",
       "      <td>1.05</td>\n",
       "      <td>17</td>\n",
       "      <td>25.323288</td>\n",
       "      <td>20.197573</td>\n",
       "      <td>8.323288</td>\n",
       "      <td>3.197573</td>\n",
       "    </tr>\n",
       "    <tr>\n",
       "      <th>4</th>\n",
       "      <td>1.00</td>\n",
       "      <td>18</td>\n",
       "      <td>25.323288</td>\n",
       "      <td>21.344793</td>\n",
       "      <td>7.323288</td>\n",
       "      <td>3.344793</td>\n",
       "    </tr>\n",
       "  </tbody>\n",
       "</table>\n",
       "</div>"
      ],
      "text/plain": [
       "      x   y   baseline       yhat  baseline_residual  model_residual\n",
       "0  2.00  10  25.323288  -1.599602          15.323288      -11.599602\n",
       "1  1.33  13  25.323288  13.773142          12.323288        0.773142\n",
       "2  1.33  15  25.323288  13.773142          10.323288       -1.226858\n",
       "3  1.05  17  25.323288  20.197573           8.323288        3.197573\n",
       "4  1.00  18  25.323288  21.344793           7.323288        3.344793"
      ]
     },
     "execution_count": 18,
     "metadata": {},
     "output_type": "execute_result"
    }
   ],
   "source": [
    "evaluate = pd.DataFrame()\n",
    "\n",
    "evaluate[\"x\"] = df.rainfall\n",
    "\n",
    "evaluate[\"y\"] = df.sales\n",
    "evaluate[\"baseline\"] = df.sales.mean()\n",
    "\n",
    "evaluate[\"yhat\"] = model.predict()\n",
    "\n",
    "evaluate[\"baseline_residual\"] = evaluate.baseline - evaluate.y\n",
    "\n",
    "evaluate[\"model_residual\"] = evaluate.yhat - evaluate.y\n",
    "\n",
    "evaluate.head()"
   ]
  },
  {
   "cell_type": "code",
   "execution_count": 19,
   "metadata": {},
   "outputs": [
    {
     "name": "stdout",
     "output_type": "stream",
     "text": [
      "Our model beats the baseline\n",
      "It makes sense to evaluate this model more deeply.\n",
      "Baseline SSE 17297.85205479452\n",
      "Model SSE 2998.2371310300655\n"
     ]
    }
   ],
   "source": [
    "baseline_sse = (evaluate.baseline_residual**2).sum()\n",
    "model_sse = (evaluate.model_residual**2).sum()\n",
    "\n",
    "if model_sse < baseline_sse:\n",
    "    print(\"Our model beats the baseline\")\n",
    "    print(\"It makes sense to evaluate this model more deeply.\")\n",
    "else:\n",
    "    print(\"Our baseline is better than the model.\")\n",
    "\n",
    "print(\"Baseline SSE\", baseline_sse)\n",
    "print(\"Model SSE\", model_sse)"
   ]
  },
  {
   "cell_type": "code",
   "execution_count": 20,
   "metadata": {},
   "outputs": [
    {
     "name": "stdout",
     "output_type": "stream",
     "text": [
      "R-squared =  0.827\n"
     ]
    }
   ],
   "source": [
    "r2 = model.rsquared\n",
    "print('R-squared = ', round(r2,3))"
   ]
  },
  {
   "cell_type": "code",
   "execution_count": 21,
   "metadata": {},
   "outputs": [
    {
     "name": "stdout",
     "output_type": "stream",
     "text": [
      "p-value for model significance =  3.2988846597381e-140\n"
     ]
    }
   ],
   "source": [
    "f_pval = model.f_pvalue\n",
    "print(\"p-value for model significance = \", f_pval)"
   ]
  },
  {
   "cell_type": "code",
   "execution_count": 22,
   "metadata": {},
   "outputs": [
    {
     "data": {
      "text/plain": [
       "True"
      ]
     },
     "execution_count": 22,
     "metadata": {},
     "output_type": "execute_result"
    }
   ],
   "source": [
    "f_pval < .05"
   ]
  },
  {
   "cell_type": "code",
   "execution_count": 23,
   "metadata": {},
   "outputs": [
    {
     "data": {
      "text/plain": [
       "<matplotlib.axes._subplots.AxesSubplot at 0x7f9ddc6f2910>"
      ]
     },
     "execution_count": 23,
     "metadata": {},
     "output_type": "execute_result"
    },
    {
     "data": {
      "image/png": "[encoded data removed]",
      "text/plain": [
       "<Figure size 432x288 with 1 Axes>"
      ]
     },
     "metadata": {
      "needs_background": "light"
     },
     "output_type": "display_data"
    }
   ],
   "source": [
    "plot_residuals(evaluate.y, evaluate.yhat)"
   ]
  },
  {
   "cell_type": "code",
   "execution_count": null,
   "metadata": {},
   "outputs": [],
   "source": []
  },
  {
   "cell_type": "code",
   "execution_count": 24,
   "metadata": {},
   "outputs": [
    {
     "data": {
      "text/html": [
       "<div>\n",
       "<style scoped>\n",
       "    .dataframe tbody tr th:only-of-type {\n",
       "        vertical-align: middle;\n",
       "    }\n",
       "\n",
       "    .dataframe tbody tr th {\n",
       "        vertical-align: top;\n",
       "    }\n",
       "\n",
       "    .dataframe thead th {\n",
       "        text-align: right;\n",
       "    }\n",
       "</style>\n",
       "<table border=\"1\" class=\"dataframe\">\n",
       "  <thead>\n",
       "    <tr style=\"text-align: right;\">\n",
       "      <th></th>\n",
       "      <th>temperature</th>\n",
       "      <th>rainfall</th>\n",
       "      <th>flyers</th>\n",
       "      <th>sales</th>\n",
       "      <th>log_rainfall</th>\n",
       "    </tr>\n",
       "  </thead>\n",
       "  <tbody>\n",
       "    <tr>\n",
       "      <th>0</th>\n",
       "      <td>27.0</td>\n",
       "      <td>2.00</td>\n",
       "      <td>15</td>\n",
       "      <td>10</td>\n",
       "      <td>0.693147</td>\n",
       "    </tr>\n",
       "    <tr>\n",
       "      <th>1</th>\n",
       "      <td>28.9</td>\n",
       "      <td>1.33</td>\n",
       "      <td>15</td>\n",
       "      <td>13</td>\n",
       "      <td>0.285179</td>\n",
       "    </tr>\n",
       "    <tr>\n",
       "      <th>2</th>\n",
       "      <td>34.5</td>\n",
       "      <td>1.33</td>\n",
       "      <td>27</td>\n",
       "      <td>15</td>\n",
       "      <td>0.285179</td>\n",
       "    </tr>\n",
       "    <tr>\n",
       "      <th>3</th>\n",
       "      <td>44.1</td>\n",
       "      <td>1.05</td>\n",
       "      <td>28</td>\n",
       "      <td>17</td>\n",
       "      <td>0.048790</td>\n",
       "    </tr>\n",
       "    <tr>\n",
       "      <th>4</th>\n",
       "      <td>42.4</td>\n",
       "      <td>1.00</td>\n",
       "      <td>33</td>\n",
       "      <td>18</td>\n",
       "      <td>0.000000</td>\n",
       "    </tr>\n",
       "  </tbody>\n",
       "</table>\n",
       "</div>"
      ],
      "text/plain": [
       "   temperature  rainfall  flyers  sales  log_rainfall\n",
       "0         27.0      2.00      15     10      0.693147\n",
       "1         28.9      1.33      15     13      0.285179\n",
       "2         34.5      1.33      27     15      0.285179\n",
       "3         44.1      1.05      28     17      0.048790\n",
       "4         42.4      1.00      33     18      0.000000"
      ]
     },
     "execution_count": 24,
     "metadata": {},
     "output_type": "execute_result"
    }
   ],
   "source": [
    "df[\"log_rainfall\"] = np.log(df.rainfall)\n",
    "df.head()"
   ]
  },
  {
   "cell_type": "code",
   "execution_count": 25,
   "metadata": {},
   "outputs": [
    {
     "data": {
      "image/png": "[encoded data removed]",
      "text/plain": [
       "<Figure size 432x288 with 1 Axes>"
      ]
     },
     "metadata": {
      "needs_background": "light"
     },
     "output_type": "display_data"
    }
   ],
   "source": [
    "plt.suptitle(\"Adding a Line of Best Fit\")\n",
    "plt.title(\"Plotting Temperature vs. Sales\")\n",
    "\n",
    "sns.regplot(x=\"temperature\", y=\"log_rainfall\", data=df)\n",
    "plt.show()"
   ]
  },
  {
   "cell_type": "code",
   "execution_count": 26,
   "metadata": {},
   "outputs": [
    {
     "data": {
      "image/png": "[encoded data removed]",
      "text/plain": [
       "<Figure size 432x288 with 1 Axes>"
      ]
     },
     "metadata": {
      "needs_background": "light"
     },
     "output_type": "display_data"
    },
    {
     "data": {
      "text/plain": [
       "<matplotlib.axes._subplots.AxesSubplot at 0x7f9ddc6fd580>"
      ]
     },
     "execution_count": 26,
     "metadata": {},
     "output_type": "execute_result"
    },
    {
     "data": {
      "image/png": "[encoded data removed]",
      "text/plain": [
       "<Figure size 432x288 with 1 Axes>"
      ]
     },
     "metadata": {
      "needs_background": "light"
     },
     "output_type": "display_data"
    }
   ],
   "source": [
    "plt.show()\n",
    "df.sales.hist()\n",
    "plt.show()\n",
    "df.log_rainfall.hist()"
   ]
  },
  {
   "cell_type": "code",
   "execution_count": 27,
   "metadata": {},
   "outputs": [],
   "source": [
    "model = ols('sales ~ log_rainfall', df).fit()"
   ]
  },
  {
   "cell_type": "code",
   "execution_count": 28,
   "metadata": {},
   "outputs": [
    {
     "data": {
      "text/html": [
       "<div>\n",
       "<style scoped>\n",
       "    .dataframe tbody tr th:only-of-type {\n",
       "        vertical-align: middle;\n",
       "    }\n",
       "\n",
       "    .dataframe tbody tr th {\n",
       "        vertical-align: top;\n",
       "    }\n",
       "\n",
       "    .dataframe thead th {\n",
       "        text-align: right;\n",
       "    }\n",
       "</style>\n",
       "<table border=\"1\" class=\"dataframe\">\n",
       "  <thead>\n",
       "    <tr style=\"text-align: right;\">\n",
       "      <th></th>\n",
       "      <th>x</th>\n",
       "      <th>y</th>\n",
       "      <th>baseline</th>\n",
       "      <th>yhat</th>\n",
       "      <th>baseline_residual</th>\n",
       "      <th>model_residual</th>\n",
       "    </tr>\n",
       "  </thead>\n",
       "  <tbody>\n",
       "    <tr>\n",
       "      <th>0</th>\n",
       "      <td>0.693147</td>\n",
       "      <td>10</td>\n",
       "      <td>25.323288</td>\n",
       "      <td>3.688573</td>\n",
       "      <td>15.323288</td>\n",
       "      <td>-6.311427</td>\n",
       "    </tr>\n",
       "    <tr>\n",
       "      <th>1</th>\n",
       "      <td>0.285179</td>\n",
       "      <td>13</td>\n",
       "      <td>25.323288</td>\n",
       "      <td>13.198359</td>\n",
       "      <td>12.323288</td>\n",
       "      <td>0.198359</td>\n",
       "    </tr>\n",
       "    <tr>\n",
       "      <th>2</th>\n",
       "      <td>0.285179</td>\n",
       "      <td>15</td>\n",
       "      <td>25.323288</td>\n",
       "      <td>13.198359</td>\n",
       "      <td>10.323288</td>\n",
       "      <td>-1.801641</td>\n",
       "    </tr>\n",
       "    <tr>\n",
       "      <th>3</th>\n",
       "      <td>0.048790</td>\n",
       "      <td>17</td>\n",
       "      <td>25.323288</td>\n",
       "      <td>18.708608</td>\n",
       "      <td>8.323288</td>\n",
       "      <td>1.708608</td>\n",
       "    </tr>\n",
       "  </tbody>\n",
       "</table>\n",
       "</div>"
      ],
      "text/plain": [
       "          x   y   baseline       yhat  baseline_residual  model_residual\n",
       "0  0.693147  10  25.323288   3.688573          15.323288       -6.311427\n",
       "1  0.285179  13  25.323288  13.198359          12.323288        0.198359\n",
       "2  0.285179  15  25.323288  13.198359          10.323288       -1.801641\n",
       "3  0.048790  17  25.323288  18.708608           8.323288        1.708608"
      ]
     },
     "execution_count": 28,
     "metadata": {},
     "output_type": "execute_result"
    }
   ],
   "source": [
    "evaluate = pd.DataFrame()\n",
    "\n",
    "evaluate[\"x\"] = df.log_rainfall\n",
    "\n",
    "evaluate[\"y\"] = df.sales\n",
    "evaluate[\"baseline\"] = df.sales.mean()\n",
    "\n",
    "evaluate[\"yhat\"] = model.predict()\n",
    "\n",
    "evaluate[\"baseline_residual\"] = evaluate.baseline - evaluate.y\n",
    "\n",
    "evaluate[\"model_residual\"] = evaluate.yhat - evaluate.y\n",
    "\n",
    "evaluate.head()"
   ]
  },
  {
   "cell_type": "code",
   "execution_count": 29,
   "metadata": {},
   "outputs": [
    {
     "name": "stdout",
     "output_type": "stream",
     "text": [
      "Our model beats the baseline\n",
      "It makes sense to evaluate this model more deeply.\n",
      "Baseline SSE 17297.85205479452\n",
      "Model SSE 952.3253474293446\n"
     ]
    }
   ],
   "source": [
    "baseline_sse = (evaluate.baseline_residual**2).sum()\n",
    "model_sse = (evaluate.model_residual**2).sum()\n",
    "\n",
    "if model_sse < baseline_sse:\n",
    "    print(\"Our model beats the baseline\")\n",
    "    print(\"It makes sense to evaluate this model more deeply.\")\n",
    "else:\n",
    "    print(\"Our baseline is better than the model.\")\n",
    "\n",
    "print(\"Baseline SSE\", baseline_sse)\n",
    "print(\"Model SSE\", model_sse)"
   ]
  },
  {
   "cell_type": "code",
   "execution_count": 30,
   "metadata": {},
   "outputs": [
    {
     "name": "stdout",
     "output_type": "stream",
     "text": [
      "R-squared =  0.945\n"
     ]
    }
   ],
   "source": [
    "r2 = model.rsquared\n",
    "print('R-squared = ', round(r2,3))"
   ]
  },
  {
   "cell_type": "code",
   "execution_count": 31,
   "metadata": {},
   "outputs": [
    {
     "name": "stdout",
     "output_type": "stream",
     "text": [
      "p-value for model significance =  1.224262409779449e-230\n"
     ]
    }
   ],
   "source": [
    "f_pval = model.f_pvalue\n",
    "print(\"p-value for model significance = \", f_pval)"
   ]
  },
  {
   "cell_type": "code",
   "execution_count": 32,
   "metadata": {},
   "outputs": [
    {
     "data": {
      "text/plain": [
       "True"
      ]
     },
     "execution_count": 32,
     "metadata": {},
     "output_type": "execute_result"
    }
   ],
   "source": [
    "f_pval < .05"
   ]
  },
  {
   "cell_type": "code",
   "execution_count": null,
   "metadata": {},
   "outputs": [],
   "source": [
    "plot_residuals(evaluate.y, evaluate.yhat)"
   ]
  },
  {
   "cell_type": "code",
   "execution_count": null,
   "metadata": {},
   "outputs": [],
   "source": []
  },
  {
   "cell_type": "code",
   "execution_count": 73,
   "metadata": {},
   "outputs": [],
   "source": [
    "from pydataset import data\n",
    "\n",
    "df = data(\"tips\")"
   ]
  },
  {
   "cell_type": "code",
   "execution_count": 74,
   "metadata": {},
   "outputs": [
    {
     "data": {
      "text/html": [
       "<div>\n",
       "<style scoped>\n",
       "    .dataframe tbody tr th:only-of-type {\n",
       "        vertical-align: middle;\n",
       "    }\n",
       "\n",
       "    .dataframe tbody tr th {\n",
       "        vertical-align: top;\n",
       "    }\n",
       "\n",
       "    .dataframe thead th {\n",
       "        text-align: right;\n",
       "    }\n",
       "</style>\n",
       "<table border=\"1\" class=\"dataframe\">\n",
       "  <thead>\n",
       "    <tr style=\"text-align: right;\">\n",
       "      <th></th>\n",
       "      <th>total_bill</th>\n",
       "      <th>tip</th>\n",
       "      <th>sex</th>\n",
       "      <th>smoker</th>\n",
       "      <th>day</th>\n",
       "      <th>time</th>\n",
       "      <th>size</th>\n",
       "    </tr>\n",
       "  </thead>\n",
       "  <tbody>\n",
       "    <tr>\n",
       "      <th>1</th>\n",
       "      <td>16.99</td>\n",
       "      <td>1.01</td>\n",
       "      <td>Female</td>\n",
       "      <td>No</td>\n",
       "      <td>Sun</td>\n",
       "      <td>Dinner</td>\n",
       "      <td>2</td>\n",
       "    </tr>\n",
       "    <tr>\n",
       "      <th>2</th>\n",
       "      <td>10.34</td>\n",
       "      <td>1.66</td>\n",
       "      <td>Male</td>\n",
       "      <td>No</td>\n",
       "      <td>Sun</td>\n",
       "      <td>Dinner</td>\n",
       "      <td>3</td>\n",
       "    </tr>\n",
       "    <tr>\n",
       "      <th>3</th>\n",
       "      <td>21.01</td>\n",
       "      <td>3.50</td>\n",
       "      <td>Male</td>\n",
       "      <td>No</td>\n",
       "      <td>Sun</td>\n",
       "      <td>Dinner</td>\n",
       "      <td>3</td>\n",
       "    </tr>\n",
       "    <tr>\n",
       "      <th>4</th>\n",
       "      <td>23.68</td>\n",
       "      <td>3.31</td>\n",
       "      <td>Male</td>\n",
       "      <td>No</td>\n",
       "      <td>Sun</td>\n",
       "      <td>Dinner</td>\n",
       "      <td>2</td>\n",
       "    </tr>\n",
       "    <tr>\n",
       "      <th>5</th>\n",
       "      <td>24.59</td>\n",
       "      <td>3.61</td>\n",
       "      <td>Female</td>\n",
       "      <td>No</td>\n",
       "      <td>Sun</td>\n",
       "      <td>Dinner</td>\n",
       "      <td>4</td>\n",
       "    </tr>\n",
       "  </tbody>\n",
       "</table>\n",
       "</div>"
      ],
      "text/plain": [
       "   total_bill   tip     sex smoker  day    time  size\n",
       "1       16.99  1.01  Female     No  Sun  Dinner     2\n",
       "2       10.34  1.66    Male     No  Sun  Dinner     3\n",
       "3       21.01  3.50    Male     No  Sun  Dinner     3\n",
       "4       23.68  3.31    Male     No  Sun  Dinner     2\n",
       "5       24.59  3.61  Female     No  Sun  Dinner     4"
      ]
     },
     "execution_count": 74,
     "metadata": {},
     "output_type": "execute_result"
    }
   ],
   "source": [
    "df.head()"
   ]
  },
  {
   "cell_type": "code",
   "execution_count": 92,
   "metadata": {},
   "outputs": [
    {
     "data": {
      "text/plain": [
       "19.785942622950824"
      ]
     },
     "execution_count": 92,
     "metadata": {},
     "output_type": "execute_result"
    }
   ],
   "source": [
    "baseline = df.total_bill.mean()\n",
    "baseline"
   ]
  },
  {
   "cell_type": "code",
   "execution_count": 93,
   "metadata": {},
   "outputs": [
    {
     "data": {
      "image/png": "[encoded data removed]",
      "text/plain": [
       "<Figure size 432x288 with 1 Axes>"
      ]
     },
     "metadata": {
      "needs_background": "light"
     },
     "output_type": "display_data"
    }
   ],
   "source": [
    "plt.suptitle(\"Adding a Line of Best Fit\")\n",
    "plt.title(\"Plotting Total Bill vs. Tip\")\n",
    "\n",
    "sns.regplot(x=\"tip\", y=\"total_bill\", data=df)\n",
    "plt.show()"
   ]
  },
  {
   "cell_type": "code",
   "execution_count": 94,
   "metadata": {},
   "outputs": [
    {
     "data": {
      "image/png": "[encoded data removed]",
      "text/plain": [
       "<Figure size 432x288 with 1 Axes>"
      ]
     },
     "metadata": {
      "needs_background": "light"
     },
     "output_type": "display_data"
    },
    {
     "data": {
      "text/plain": [
       "<matplotlib.axes._subplots.AxesSubplot at 0x7f9dddc43d60>"
      ]
     },
     "execution_count": 94,
     "metadata": {},
     "output_type": "execute_result"
    },
    {
     "data": {
      "image/png": "[encoded data removed]",
      "text/plain": [
       "<Figure size 432x288 with 1 Axes>"
      ]
     },
     "metadata": {
      "needs_background": "light"
     },
     "output_type": "display_data"
    }
   ],
   "source": [
    "plt.show()\n",
    "df.tip.hist()\n",
    "plt.show()\n",
    "df.total_bill.hist()"
   ]
  },
  {
   "cell_type": "code",
   "execution_count": 95,
   "metadata": {},
   "outputs": [],
   "source": [
    "model = ols('tip ~ total_bill', df).fit()"
   ]
  },
  {
   "cell_type": "code",
   "execution_count": 96,
   "metadata": {},
   "outputs": [
    {
     "data": {
      "text/html": [
       "<div>\n",
       "<style scoped>\n",
       "    .dataframe tbody tr th:only-of-type {\n",
       "        vertical-align: middle;\n",
       "    }\n",
       "\n",
       "    .dataframe tbody tr th {\n",
       "        vertical-align: top;\n",
       "    }\n",
       "\n",
       "    .dataframe thead th {\n",
       "        text-align: right;\n",
       "    }\n",
       "</style>\n",
       "<table border=\"1\" class=\"dataframe\">\n",
       "  <thead>\n",
       "    <tr style=\"text-align: right;\">\n",
       "      <th></th>\n",
       "      <th>x</th>\n",
       "      <th>y</th>\n",
       "      <th>baseline</th>\n",
       "      <th>yhat</th>\n",
       "      <th>baseline_residual</th>\n",
       "      <th>model_residual</th>\n",
       "    </tr>\n",
       "  </thead>\n",
       "  <tbody>\n",
       "    <tr>\n",
       "      <th>1</th>\n",
       "      <td>16.99</td>\n",
       "      <td>1.01</td>\n",
       "      <td>2.998279</td>\n",
       "      <td>2.704636</td>\n",
       "      <td>1.988279</td>\n",
       "      <td>1.694636</td>\n",
       "    </tr>\n",
       "    <tr>\n",
       "      <th>2</th>\n",
       "      <td>10.34</td>\n",
       "      <td>1.66</td>\n",
       "      <td>2.998279</td>\n",
       "      <td>2.006223</td>\n",
       "      <td>1.338279</td>\n",
       "      <td>0.346223</td>\n",
       "    </tr>\n",
       "    <tr>\n",
       "      <th>3</th>\n",
       "      <td>21.01</td>\n",
       "      <td>3.50</td>\n",
       "      <td>2.998279</td>\n",
       "      <td>3.126835</td>\n",
       "      <td>-0.501721</td>\n",
       "      <td>-0.373165</td>\n",
       "    </tr>\n",
       "    <tr>\n",
       "      <th>4</th>\n",
       "      <td>23.68</td>\n",
       "      <td>3.31</td>\n",
       "      <td>2.998279</td>\n",
       "      <td>3.407250</td>\n",
       "      <td>-0.311721</td>\n",
       "      <td>0.097250</td>\n",
       "    </tr>\n",
       "    <tr>\n",
       "      <th>5</th>\n",
       "      <td>24.59</td>\n",
       "      <td>3.61</td>\n",
       "      <td>2.998279</td>\n",
       "      <td>3.502822</td>\n",
       "      <td>-0.611721</td>\n",
       "      <td>-0.107178</td>\n",
       "    </tr>\n",
       "  </tbody>\n",
       "</table>\n",
       "</div>"
      ],
      "text/plain": [
       "       x     y  baseline      yhat  baseline_residual  model_residual\n",
       "1  16.99  1.01  2.998279  2.704636           1.988279        1.694636\n",
       "2  10.34  1.66  2.998279  2.006223           1.338279        0.346223\n",
       "3  21.01  3.50  2.998279  3.126835          -0.501721       -0.373165\n",
       "4  23.68  3.31  2.998279  3.407250          -0.311721        0.097250\n",
       "5  24.59  3.61  2.998279  3.502822          -0.611721       -0.107178"
      ]
     },
     "execution_count": 96,
     "metadata": {},
     "output_type": "execute_result"
    }
   ],
   "source": [
    "evaluate = pd.DataFrame()\n",
    "\n",
    "evaluate[\"x\"] = df.total_bill\n",
    "\n",
    "evaluate[\"y\"] = df.tip\n",
    "evaluate[\"baseline\"] = df.tip.mean()\n",
    "\n",
    "evaluate[\"yhat\"] = model.predict()\n",
    "\n",
    "evaluate[\"baseline_residual\"] = evaluate.baseline - evaluate.y\n",
    "\n",
    "evaluate[\"model_residual\"] = evaluate.yhat - evaluate.y\n",
    "\n",
    "evaluate.head()"
   ]
  },
  {
   "cell_type": "code",
   "execution_count": 97,
   "metadata": {},
   "outputs": [
    {
     "name": "stdout",
     "output_type": "stream",
     "text": [
      "Our model beats the baseline\n",
      "It makes sense to evaluate this model more deeply.\n",
      "Baseline SSE 465.2124770491804\n",
      "Model SSE 252.78874385077603\n"
     ]
    }
   ],
   "source": [
    "baseline_sse = (evaluate.baseline_residual**2).sum()\n",
    "model_sse = (evaluate.model_residual**2).sum()\n",
    "\n",
    "if model_sse < baseline_sse:\n",
    "    print(\"Our model beats the baseline\")\n",
    "    print(\"It makes sense to evaluate this model more deeply.\")\n",
    "else:\n",
    "    print(\"Our baseline is better than the model.\")\n",
    "\n",
    "print(\"Baseline SSE\", baseline_sse)\n",
    "print(\"Model SSE\", model_sse)"
   ]
  },
  {
   "cell_type": "code",
   "execution_count": 98,
   "metadata": {},
   "outputs": [
    {
     "name": "stdout",
     "output_type": "stream",
     "text": [
      "R-squared =  0.457\n"
     ]
    }
   ],
   "source": [
    "r2 = model.rsquared\n",
    "print('R-squared = ', round(r2,3))"
   ]
  },
  {
   "cell_type": "code",
   "execution_count": 99,
   "metadata": {},
   "outputs": [
    {
     "name": "stdout",
     "output_type": "stream",
     "text": [
      "p-value for model significance =  6.692470646863376e-34\n"
     ]
    }
   ],
   "source": [
    "f_pval = model.f_pvalue\n",
    "print(\"p-value for model significance = \", f_pval)"
   ]
  },
  {
   "cell_type": "code",
   "execution_count": 100,
   "metadata": {},
   "outputs": [
    {
     "data": {
      "text/plain": [
       "<matplotlib.axes._subplots.AxesSubplot at 0x7f9dddc8c820>"
      ]
     },
     "execution_count": 100,
     "metadata": {},
     "output_type": "execute_result"
    },
    {
     "data": {
      "image/png": "[encoded data removed]",
      "text/plain": [
       "<Figure size 432x288 with 1 Axes>"
      ]
     },
     "metadata": {
      "needs_background": "light"
     },
     "output_type": "display_data"
    }
   ],
   "source": [
    "plot_residuals(evaluate.y, evaluate.yhat)"
   ]
  },
  {
   "cell_type": "code",
   "execution_count": null,
   "metadata": {},
   "outputs": [],
   "source": []
  },
  {
   "cell_type": "code",
   "execution_count": null,
   "metadata": {},
   "outputs": [],
   "source": []
  }
 ],
 "metadata": {
  "kernelspec": {
   "display_name": "Python 3",
   "language": "python",
   "name": "python3"
  },
  "language_info": {
   "codemirror_mode": {
    "name": "ipython",
    "version": 3
   },
   "file_extension": ".py",
   "mimetype": "text/x-python",
   "name": "python",
   "nbconvert_exporter": "python",
   "pygments_lexer": "ipython3",
   "version": "3.8.3"
  }
 },
 "nbformat": 4,
 "nbformat_minor": 4
}
